{
 "cells": [
  {
   "cell_type": "markdown",
   "metadata": {},
   "source": [
    "# Hacer mapas automatizados"
   ]
  },
  {
   "cell_type": "code",
   "execution_count": null,
   "metadata": {},
   "outputs": [],
   "source": [
    "#descargando los datos de covid de mexico\n",
    "import requests\n",
    "import zipfile,io\n",
    "save_path=\"data/\"\n",
    "chunk_size=128\n",
    "res=requests.get(\"http://datosabiertos.salud.gob.mx/gobmx/salud/datos_abiertos/datos_abiertos_covid19.zip\",stream=True)\n",
    "print(res.status_code)\n",
    "if(res.status_code==200):\n",
    "    z = zipfile.ZipFile(io.BytesIO(res.content))\n",
    "    z.extractall(save_path)"
   ]
  },
  {
   "cell_type": "code",
   "execution_count": null,
   "metadata": {},
   "outputs": [],
   "source": [
    "#obteniendo el ultimo archivo, en caso de que en el directorio haya mas\n",
    "import glob\n",
    "import os\n",
    "\n",
    "list_of_files = glob.glob(save_path+\"*COVID19MEXICO.csv\")\n",
    "latest_file = max(list_of_files, key=os.path.getctime)\n",
    "print(latest_file)"
   ]
  },
  {
   "cell_type": "code",
   "execution_count": null,
   "metadata": {
    "scrolled": false
   },
   "outputs": [],
   "source": [
    "#leyendo los datos en un pandas dataframe\n",
    "import pandas as pd\n",
    "covid_df=pd.read_csv(latest_file,encoding=\"iso-8859-1\",dtype={\"ENTIDAD_RES\":object,\"MUNICIPIO_RES\":object})\n",
    "covid_df[\"CVEGEOMUN\"]=covid_df[\"ENTIDAD_RES\"]+covid_df[\"MUNICIPIO_RES\"]\n",
    "covid_df[\"caso\"]=1\n",
    "covid_df"
   ]
  },
  {
   "cell_type": "code",
   "execution_count": null,
   "metadata": {},
   "outputs": [],
   "source": [
    "#filtrando solo los casos confirmados\n",
    "casos_confirmados=covid_df[(covid_df[\"CLASIFICACION_FINAL\"]==1)|(covid_df[\"CLASIFICACION_FINAL\"]==2)|(covid_df[\"CLASIFICACION_FINAL\"]==3)]\n",
    "casos_confirmados"
   ]
  },
  {
   "cell_type": "code",
   "execution_count": null,
   "metadata": {},
   "outputs": [],
   "source": [
    "#agrupando los casos confirmados por estado\n",
    "confirmados_x_estado=casos_confirmados[[\"ENTIDAD_RES\",\"CLASIFICACION_FINAL\"]].groupby(by=\"ENTIDAD_RES\").count().reset_index()\n",
    "confirmados_x_estado.rename(columns={\"CLASIFICACION_FINAL\":\"confirmados\"},inplace=True)\n",
    "#leyendo el shapefile y haciendo el join\n",
    "import geopandas as geopd\n",
    "estados=geopd.GeoDataFrame.from_file(\"capas_base/estados_inegi_2019/estados_inegi_2019.shp\")\n",
    "estados_confirmados=estados.merge(confirmados_x_estado,left_on=\"cvegeo\",right_on=\"ENTIDAD_RES\",how=\"inner\")\n",
    "estados_confirmados.head()"
   ]
  },
  {
   "cell_type": "code",
   "execution_count": null,
   "metadata": {},
   "outputs": [],
   "source": [
    "#obtener la fecha para ponerla en el mapa\n",
    "import locale\n",
    "locale.setlocale(locale.LC_TIME, '')\n",
    "from datetime import date\n",
    "today = date.today()\n",
    "fecha_actual=today.strftime(\"%d de {} del %Y\").format(today.strftime(\"%B\").title())\n",
    "fecha_para_archivos=today.strftime(\"%d-%m-%Y\")\n",
    "print(fecha_para_archivos)\n",
    "fecha_actual"
   ]
  },
  {
   "cell_type": "markdown",
   "metadata": {},
   "source": [
    "### Ahora si a hacer el mapa"
   ]
  },
  {
   "cell_type": "code",
   "execution_count": null,
   "metadata": {},
   "outputs": [],
   "source": [
    "import matplotlib.pyplot as plt\n",
    "\n",
    "fig1, ax1 = plt.subplots(figsize=(10,7),dpi=150)\n",
    "estados_confirmados.plot(ax=ax1,column=\"confirmados\",cmap=\"OrRd\",\n",
    "                         legend=True,scheme=\"quantiles\",edgecolor=\"lightgray\",\n",
    "                         legend_kwds={\"title\":\"Casos confirmados\"})\n",
    "ax1.set_title(\"Casos confirmados de coronavirus en México\\n\"+fecha_actual)\n",
    "ax1.axis('off')\n",
    "\n",
    "ax1.text(0.0, 0.0, 'Fuente: Secretaria de Salud. DGE.', horizontalalignment='left',verticalalignment='center',\n",
    "         transform=ax1.transAxes,fontsize=9)\n",
    "\n",
    "fig1.savefig(\"salidas/\"+fecha_para_archivos+\"-NACIONAL.jpg\",format=\"jpg\")\n",
    "plt.show()"
   ]
  },
  {
   "cell_type": "markdown",
   "metadata": {},
   "source": [
    "### ahora a hacer uno por cada estado"
   ]
  },
  {
   "cell_type": "code",
   "execution_count": null,
   "metadata": {},
   "outputs": [],
   "source": [
    "#agrupando los casos confirmados por municipio\n",
    "confirmados_x_municipio=casos_confirmados[[\"CVEGEOMUN\",\"CLASIFICACION_FINAL\"]].groupby(by=\"CVEGEOMUN\").count().reset_index()\n",
    "confirmados_x_municipio.rename(columns={\"CLASIFICACION_FINAL\":\"confirmados\"},inplace=True)\n",
    "#leyendo el shapefile y haciendo el join\n",
    "municipios=geopd.GeoDataFrame.from_file(\"capas_base/municipios_inegi_2019/municipios_inegi_2019.shp\")\n",
    "municipios[\"cve_ent\"]=municipios[\"cvegeo\"].apply(lambda x:x[:2])\n",
    "municipios_confirmados=municipios.merge(confirmados_x_municipio,left_on=\"cvegeo\",right_on=\"CVEGEOMUN\",how=\"inner\")\n",
    "municipios_confirmados.head()"
   ]
  },
  {
   "cell_type": "code",
   "execution_count": null,
   "metadata": {},
   "outputs": [],
   "source": [
    "def mapea1estado(cve_edo):\n",
    "    filtro_mun=municipios_confirmados[municipios_confirmados[\"cve_ent\"]==cve_edo]\n",
    "    nom_edo=filtro_mun.iloc[0][\"nom_ent\"]\n",
    "    fig2, ax2 = plt.subplots(figsize=(10,7),dpi=150)\n",
    "    filtro_mun.plot(ax=ax2,column=\"confirmados\",cmap=\"OrRd\",\n",
    "                         legend=True,scheme=\"quantiles\",edgecolor=\"lightgray\",\n",
    "                         legend_kwds={\"fontsize\":6})\n",
    "    ax2.set_title(\"Casos confirmados de coronavirus en \"+nom_edo+\"\\n\"+fecha_actual)\n",
    "    \n",
    "    ax2.axis('off')\n",
    "\n",
    "    ax2.text(0.0, 0.0, 'Fuente: Secretaria de Salud. DGE.', horizontalalignment='left',verticalalignment='center',\n",
    "         transform=ax2.transAxes,fontsize=9)\n",
    "\n",
    "    fig2.savefig(\"salidas/\"+fecha_para_archivos+\"-estado\"+cve_edo+\".jpg\",format=\"jpg\")\n",
    "    plt.close()\n",
    "    \n",
    "#mapea1estado(\"15\")\n",
    "for i in range(1,33):\n",
    "    clave_edo=\"{:02}\".format(i)\n",
    "    print(clave_edo+\", mapa terminado\")\n",
    "    mapea1estado(clave_edo)"
   ]
  },
  {
   "cell_type": "markdown",
   "metadata": {},
   "source": [
    "### un ejemplo mas... informacion de los 10 muns mas altos "
   ]
  },
  {
   "cell_type": "code",
   "execution_count": null,
   "metadata": {},
   "outputs": [],
   "source": [
    "lista_top10=municipios_confirmados.sort_values(by=\"confirmados\",ascending=False)[[\"geometry\",\"cvegeo\",\"nom_ent\",\"nom_mun\",\"confirmados\"]].head(10)\n",
    "lista_top10"
   ]
  },
  {
   "cell_type": "code",
   "execution_count": null,
   "metadata": {},
   "outputs": [],
   "source": [
    "import matplotlib.dates as mdates\n",
    "#%matplotlib inline\n",
    "import seaborn as sns\n",
    "sns.set_style(\"whitegrid\")\n",
    "\n",
    "def ficha_municipio(row,idx=0):\n",
    "    fig3, ax3 = plt.subplots(2,2,figsize=(10,7),dpi=150)\n",
    "    data_mun=covid_df[ (covid_df[\"CVEGEOMUN\"]==row[\"cvegeo\"]) & ( (covid_df[\"CLASIFICACION_FINAL\"]==1)|(covid_df[\"CLASIFICACION_FINAL\"]==2)|(covid_df[\"CLASIFICACION_FINAL\"]==3) ) ]\n",
    "    #el municipio\n",
    "    municipios_confirmados.plot(ax=ax3[0][0],column=\"confirmados\",cmap=\"OrRd\")\n",
    "    minx, miny, maxx, maxy = row.geometry.bounds\n",
    "    ax3[0][0].set_xlim(minx,maxx)\n",
    "    ax3[0][0].set_ylim(miny,maxy)\n",
    "    \n",
    "    ax3[0][0].set_aspect(aspect=\"equal\",adjustable=\"box\",anchor=\"C\")\n",
    "    ax3[0][0].axis('off')\n",
    "    ax3[0][0].set_title(row[\"nom_mun\"]+\", \"+row[\"nom_ent\"])\n",
    "    \n",
    "    #rgafica de hombres y mujeres en ese municipio\n",
    "    data_mun[\"Sexo\"]=data_mun[\"SEXO\"].apply(lambda x:\"Hombre\" if x==2 else \"Mujer\")\n",
    "    sns.countplot(data=data_mun,x=\"Sexo\",\n",
    "                ax=ax3[0][1])\n",
    "    ax3[0][1].set_title(\"Casos confirmados por sexo\")\n",
    "    ax3[0][1].set_xlabel(\"\")\n",
    "    \n",
    "    #grafica de avance de dias\n",
    "    avance=data_mun[[\"FECHA_INGRESO\",\"caso\"]].groupby(\"FECHA_INGRESO\").count().reset_index().sort_values(by=\"FECHA_INGRESO\")\n",
    "    avance[\"fecha\"]=pd.to_datetime(avance[\"FECHA_INGRESO\"])\n",
    "    avance[\"acum\"]=avance[\"caso\"].cumsum()\n",
    "    sns.lineplot(data=avance,x=\"fecha\",y=\"caso\",ax=ax3[1][0],color=\"#ad0909\")\n",
    "    \n",
    "    locator = mdates.AutoDateLocator(minticks=3, maxticks=7)\n",
    "    formatter = mdates.ConciseDateFormatter(locator)\n",
    "    ax3[1][0].xaxis.set_major_locator(locator)\n",
    "    ax3[1][0].xaxis.set_major_formatter(formatter)\n",
    "    \n",
    "    ax3[1][0].set_title(\"Casos confirmados por fecha de ingreso\")\n",
    "    \n",
    "    #grafica de avance de dias acumulado\n",
    "    \n",
    "    sns.lineplot(data=avance,x=\"fecha\",y=\"acum\",ax=ax3[1][1],color=\"#ad0909\")\n",
    "    \n",
    "    ax3[1][1].xaxis.set_major_locator(locator)\n",
    "    ax3[1][1].xaxis.set_major_formatter(formatter)\n",
    "    ax3[1][1].set_title(\"Casos confirmados acumulados por fecha de ingreso\")\n",
    "    \n",
    "    fig3.suptitle(\"Casos confirmados de Coronavirus en \"+row[\"nom_mun\"]+\"\\n\"+\"{:,}\".format(row[\"confirmados\"]))\n",
    "    fig3.savefig(\"salidas/\"+fecha_para_archivos+\"-topmunicipal-\"+str(idx)+\"-\"+row[\"cvegeo\"]+\".jpg\",format=\"jpg\")\n",
    "    plt.close()\n",
    "\n",
    "c=1\n",
    "for i,row in lista_top10.iterrows():\n",
    "    print(\"generando ficha \"+row[\"nom_mun\"])\n",
    "    ficha_municipio(row,c)\n",
    "    c=c+1\n",
    "#ficha_municipio(lista_top10.iloc[1])"
   ]
  },
  {
   "cell_type": "code",
   "execution_count": null,
   "metadata": {},
   "outputs": [],
   "source": []
  }
 ],
 "metadata": {
  "kernelspec": {
   "display_name": "Python 3",
   "language": "python",
   "name": "python3"
  },
  "language_info": {
   "codemirror_mode": {
    "name": "ipython",
    "version": 3
   },
   "file_extension": ".py",
   "mimetype": "text/x-python",
   "name": "python",
   "nbconvert_exporter": "python",
   "pygments_lexer": "ipython3",
   "version": "3.8.5"
  }
 },
 "nbformat": 4,
 "nbformat_minor": 4
}
